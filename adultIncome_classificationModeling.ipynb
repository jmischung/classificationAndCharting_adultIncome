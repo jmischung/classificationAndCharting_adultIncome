{
 "cells": [
  {
   "cell_type": "markdown",
   "metadata": {},
   "source": [
    "# Adult Income - Classification Modeling\n",
    "---\n",
    "__Date Created:__ 2020-06-20  \n",
    "__Author:__ Josh Mischung  \n",
    "__email:__ josh@knoasis.io  \n",
    "\n",
    "__Dataset:__ [Adult Income, UCI Machine Learning Repository](https://archive.ics.uci.edu/ml/datasets/Adult)\n",
    "\n",
    "__Comments on Dataset & Objectives:__  \n",
    "The objective of this notebook is building a classification model that can power a user-facing frontend where inputs are provide by the user and the probability of an outcome is predicted.  \n",
    "\n",
    "The Adult dataset from the UCI Machine Learning Repository was chosen for this task because a layperson will intuitively have enough understanding of the inputs to change them and mentally form their own hypothesis about how the change will impact the probability of the outcome (*adult income >$50K*).\n",
    "\n",
    "<br>\n",
    "\n",
    "# Imports\n",
    "---"
   ]
  },
  {
   "cell_type": "code",
   "execution_count": null,
   "metadata": {},
   "outputs": [],
   "source": []
  }
 ],
 "metadata": {
  "hide_input": false,
  "kernelspec": {
   "display_name": "Python 3",
   "language": "python",
   "name": "python3"
  },
  "language_info": {
   "codemirror_mode": {
    "name": "ipython",
    "version": 3
   },
   "file_extension": ".py",
   "mimetype": "text/x-python",
   "name": "python",
   "nbconvert_exporter": "python",
   "pygments_lexer": "ipython3",
   "version": "3.7.3"
  }
 },
 "nbformat": 4,
 "nbformat_minor": 4
}
